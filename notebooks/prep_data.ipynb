{
 "cells": [
  {
   "cell_type": "code",
   "execution_count": 2,
   "metadata": {},
   "outputs": [],
   "source": [
    "# cd ../finetuning"
   ]
  },
  {
   "cell_type": "code",
   "execution_count": 16,
   "metadata": {},
   "outputs": [
    {
     "data": {
      "text/plain": [
       "True"
      ]
     },
     "execution_count": 16,
     "metadata": {},
     "output_type": "execute_result"
    }
   ],
   "source": [
    "from dotenv import load_dotenv\n",
    "load_dotenv()"
   ]
  },
  {
   "cell_type": "code",
   "execution_count": 11,
   "metadata": {},
   "outputs": [],
   "source": [
    "from datasets import Dataset, DatasetDict\n",
    "import json\n",
    "import os\n",
    "\n",
    "def load_chunks(file_path):\n",
    "    with open(file_path, 'r', encoding='utf-8') as f:\n",
    "        data = json.load(f)\n",
    "    return data\n",
    "\n",
    "def create_huggingface_dataset(chunks_dir):\n",
    "    all_chunks = []\n",
    "    for file_name in os.listdir(chunks_dir):\n",
    "        if file_name.endswith(\".json\"):\n",
    "            file_path = os.path.join(chunks_dir, file_name)\n",
    "            chunks = load_chunks(file_path)\n",
    "            for chunk in chunks:\n",
    "                all_chunks.append({\n",
    "                    \"chunk_id\": chunk[\"id\"],\n",
    "                    \"chunk_en\": chunk[\"chunk_en\"],\n",
    "                    \"chunk_vi\": chunk[\"chunk_vi\"]\n",
    "                })\n",
    "    \n",
    "    dataset = Dataset.from_list(all_chunks)\n",
    "    dataset_dict = DatasetDict({\"train\": dataset})\n",
    "    \n",
    "    return dataset_dict\n"
   ]
  },
  {
   "cell_type": "code",
   "execution_count": 18,
   "metadata": {},
   "outputs": [
    {
     "name": "stdout",
     "output_type": "stream",
     "text": [
      "DatasetDict({\n",
      "    train: Dataset({\n",
      "        features: ['chunk_id', 'chunk_en', 'chunk_vi'],\n",
      "        num_rows: 52\n",
      "    })\n",
      "})\n"
     ]
    }
   ],
   "source": [
    "chunks_dir = \"data/cpt/chunks\"\n",
    "dataset_dict = create_huggingface_dataset(chunks_dir)\n",
    "print(dataset_dict)"
   ]
  },
  {
   "cell_type": "code",
   "execution_count": 14,
   "metadata": {},
   "outputs": [
    {
     "data": {
      "text/plain": [
       "{'chunk_id': 'cmc_global_offices__7',\n",
       " 'chunk_en': \"In South Korea, CMC Global's office is located in ENA Building in central Seoul. This marks a significant milestone in developing collaborations within one of the most advanced technology markets in the world.\",\n",
       " 'chunk_vi': 'Tại Hàn Quốc, CMC Global đặt văn phòng tại ENA Building ở trung tâm Seoul. Đây là một bước tiến quan trọng giúp công ty phát triển quan hệ hợp tác tại một trong những thị trường công nghệ tiên tiến nhất thế giới.'}"
      ]
     },
     "execution_count": 14,
     "metadata": {},
     "output_type": "execute_result"
    }
   ],
   "source": [
    "dataset_dict['train'][51]"
   ]
  },
  {
   "cell_type": "code",
   "execution_count": 17,
   "metadata": {},
   "outputs": [],
   "source": [
    "def push_dataset_to_hub(dataset_dict, repo_id):\n",
    "    dataset_dict.push_to_hub(repo_id)"
   ]
  },
  {
   "cell_type": "code",
   "execution_count": 19,
   "metadata": {},
   "outputs": [
    {
     "data": {
      "application/vnd.jupyter.widget-view+json": {
       "model_id": "0543bef06063423490dcb204f9b5531f",
       "version_major": 2,
       "version_minor": 0
      },
      "text/plain": [
       "Uploading the dataset shards:   0%|          | 0/1 [00:00<?, ?it/s]"
      ]
     },
     "metadata": {},
     "output_type": "display_data"
    },
    {
     "data": {
      "application/vnd.jupyter.widget-view+json": {
       "model_id": "d22cef9bc42c42e680ac74f697296147",
       "version_major": 2,
       "version_minor": 0
      },
      "text/plain": [
       "Creating parquet from Arrow format:   0%|          | 0/1 [00:00<?, ?ba/s]"
      ]
     },
     "metadata": {},
     "output_type": "display_data"
    }
   ],
   "source": [
    "repo_id = \"namfam/cmc-global-chunks-52\"\n",
    "push_dataset_to_hub(dataset_dict, repo_id)"
   ]
  },
  {
   "cell_type": "code",
   "execution_count": null,
   "metadata": {},
   "outputs": [],
   "source": []
  }
 ],
 "metadata": {
  "kernelspec": {
   "display_name": "env-01",
   "language": "python",
   "name": "python3"
  },
  "language_info": {
   "codemirror_mode": {
    "name": "ipython",
    "version": 3
   },
   "file_extension": ".py",
   "mimetype": "text/x-python",
   "name": "python",
   "nbconvert_exporter": "python",
   "pygments_lexer": "ipython3",
   "version": "3.11.10"
  }
 },
 "nbformat": 4,
 "nbformat_minor": 2
}
