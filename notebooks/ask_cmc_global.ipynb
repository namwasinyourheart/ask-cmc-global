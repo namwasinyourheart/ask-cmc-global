{
 "cells": [
  {
   "cell_type": "code",
   "execution_count": 1,
   "metadata": {},
   "outputs": [
    {
     "name": "stdout",
     "output_type": "stream",
     "text": [
      "E:\\projects\\ask-cmc-global\n"
     ]
    }
   ],
   "source": [
    "cd E:\\projects\\ask-cmc-global"
   ]
  },
  {
   "cell_type": "code",
   "execution_count": 2,
   "metadata": {},
   "outputs": [],
   "source": [
    "from src.chain import create_vector_db, load_documents, load_session_history, get_response, save_message"
   ]
  },
  {
   "cell_type": "code",
   "execution_count": 3,
   "metadata": {},
   "outputs": [
    {
     "data": {
      "text/plain": [
       "True"
      ]
     },
     "execution_count": 3,
     "metadata": {},
     "output_type": "execute_result"
    }
   ],
   "source": [
    "from dotenv import load_dotenv\n",
    "load_dotenv()"
   ]
  },
  {
   "cell_type": "code",
   "execution_count": 4,
   "metadata": {},
   "outputs": [
    {
     "data": {
      "text/plain": [
       "'Tập đoàn CMC được thành lập vào ngày 26 tháng 5 năm 1993.'"
      ]
     },
     "execution_count": 4,
     "metadata": {},
     "output_type": "execute_result"
    }
   ],
   "source": [
    "session_id = \"abc123\"\n",
    "question = \"Tập đoàn CMC thành lập khi nào?\"\n",
    "response = get_response(session_id, question)\n",
    "response['answer']"
   ]
  },
  {
   "cell_type": "code",
   "execution_count": 5,
   "metadata": {},
   "outputs": [],
   "source": [
    "save_message(session_id, \"human\", question)\n",
    "save_message(session_id, \"ai\", response['answer'])"
   ]
  },
  {
   "cell_type": "code",
   "execution_count": 6,
   "metadata": {},
   "outputs": [
    {
     "name": "stdout",
     "output_type": "stream",
     "text": [
      "Human: Tập đoàn CMC thành lập khi nào?\n",
      "Ai: Tập đoàn CMC được thành lập vào ngày 26 tháng 5 năm 1993.\n"
     ]
    }
   ],
   "source": [
    "chat_history = load_session_history(session_id)\n",
    "for message in chat_history.messages:\n",
    "    print(f\"{message['role'].capitalize()}: {message['content']}\")"
   ]
  },
  {
   "cell_type": "code",
   "execution_count": 7,
   "metadata": {},
   "outputs": [
    {
     "data": {
      "text/plain": [
       "'CMC Global được thành lập vào tháng 3 năm 2017.'"
      ]
     },
     "execution_count": 7,
     "metadata": {},
     "output_type": "execute_result"
    }
   ],
   "source": [
    "question = \"Vậy còn CMC Global?\"\n",
    "response = get_response(session_id, question)\n",
    "response['answer']"
   ]
  },
  {
   "cell_type": "code",
   "execution_count": 8,
   "metadata": {},
   "outputs": [],
   "source": [
    "save_message(session_id, \"human\", question)\n",
    "save_message(session_id, \"ai\", response['answer'])"
   ]
  },
  {
   "cell_type": "code",
   "execution_count": 9,
   "metadata": {},
   "outputs": [
    {
     "name": "stdout",
     "output_type": "stream",
     "text": [
      "Human: Tập đoàn CMC thành lập khi nào?\n",
      "Ai: Tập đoàn CMC được thành lập vào ngày 26 tháng 5 năm 1993.\n",
      "Human: Vậy còn CMC Global?\n",
      "Ai: CMC Global được thành lập vào tháng 3 năm 2017.\n"
     ]
    }
   ],
   "source": [
    "chat_history = load_session_history(session_id)\n",
    "for message in chat_history.messages:\n",
    "    print(f\"{message['role'].capitalize()}: {message['content']}\")"
   ]
  },
  {
   "cell_type": "code",
   "execution_count": 10,
   "metadata": {},
   "outputs": [
    {
     "data": {
      "text/plain": [
       "'Tầm nhìn của CMC Global là trở thành công ty dịch vụ IT hàng đầu tại Việt Nam, nằm trong top 10 khu vực và dẫn đầu về triển khai các giải pháp công nghệ mới như AI, Cloud và chuyển đổi số. Sứ mệnh của công ty là tạo ra dịch vụ đạt chuẩn quốc tế và hiện diện trên toàn cầu, tập trung vào việc đổi mới các giá trị cốt lõi về chất lượng nguồn nhân lực và quy trình làm việc.'"
      ]
     },
     "execution_count": 10,
     "metadata": {},
     "output_type": "execute_result"
    }
   ],
   "source": [
    "question = \"Tầm nhìn và sứ mệnh của họ là gì\"\n",
    "response = get_response(session_id, question)\n",
    "response['answer']"
   ]
  },
  {
   "cell_type": "code",
   "execution_count": null,
   "metadata": {},
   "outputs": [],
   "source": []
  }
 ],
 "metadata": {
  "kernelspec": {
   "display_name": "env-01",
   "language": "python",
   "name": "python3"
  },
  "language_info": {
   "codemirror_mode": {
    "name": "ipython",
    "version": 3
   },
   "file_extension": ".py",
   "mimetype": "text/x-python",
   "name": "python",
   "nbconvert_exporter": "python",
   "pygments_lexer": "ipython3",
   "version": "3.11.10"
  }
 },
 "nbformat": 4,
 "nbformat_minor": 2
}
